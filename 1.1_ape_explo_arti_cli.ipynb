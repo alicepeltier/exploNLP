{
 "cells": [
  {
   "cell_type": "code",
   "execution_count": 2,
   "metadata": {},
   "outputs": [
    {
     "name": "stdout",
     "output_type": "stream",
     "text": [
      "    VAL_IDEXTCLI\n",
      "990            .\n",
      "991            .\n",
      "992            .\n",
      "993            x\n",
      "994            W\n",
      "995            W\n",
      "996            w\n",
      "997            W\n",
      "998            W\n",
      "999            w\n"
     ]
    }
   ],
   "source": [
    "import os\n",
    "import csv\n",
    "import pandas as pd\n",
    "\n",
    "sample_filename = 'sample1000.txt'\n",
    "\n",
    "dirpath = os.getcwd()\n",
    "data_foldername = dirpath+ \"\\data\"\n",
    "filename_path = data_foldername+\"\\\\\"+sample_filename\n",
    "\n",
    "\n",
    "df_data = pd.read_csv(filename_path, header=0)\n",
    "df_data = pd.DataFrame(df_data)\n",
    "print(df_data.tail(10))\n"
   ]
  },
  {
   "cell_type": "code",
   "execution_count": 3,
   "metadata": {},
   "outputs": [],
   "source": [
    "df_data['siret']=df_data['VAL_IDEXTCLI']\n"
   ]
  },
  {
   "cell_type": "code",
   "execution_count": 4,
   "metadata": {},
   "outputs": [
    {
     "name": "stdout",
     "output_type": "stream",
     "text": [
      "    VAL_IDEXTCLI siret  siret_9chiffres\n",
      "990            .     .            False\n",
      "991            .     .            False\n",
      "992            .     .            False\n",
      "993            x     x            False\n",
      "994            W     W            False\n",
      "995            W     W            False\n",
      "996            w     w            False\n",
      "997            W     W            False\n",
      "998            W     W            False\n",
      "999            w     w            False\n"
     ]
    }
   ],
   "source": [
    "import re\n",
    "format_siren = r\"^[0-9]{9}$\"\n",
    "exp_mdp = re.compile(format_siren)\n",
    "\n",
    "df_data['siret_9chiffres']= df_data['siret'].apply(lambda x:(exp_mdp.search(x) is not None))\n",
    "\n",
    "print(df_data.tail(10))"
   ]
  },
  {
   "cell_type": "code",
   "execution_count": 6,
   "metadata": {},
   "outputs": [
    {
     "name": "stdout",
     "output_type": "stream",
     "text": [
      "    VAL_IDEXTCLI      siret  siret_9chiffres\n",
      "42     444444447  444444447             True\n",
      "232    539161711  539161711             True\n",
      "256    794363655  794363655             True\n",
      "289    793213687  793213687             True\n",
      "303    797768041  797768041             True\n",
      "325    791876592  791876592             True\n",
      "346    290290067  290290067             True\n",
      "375    478785611  478785611             True\n",
      "416    350803938  350803938             True\n",
      "417    000000000  000000000             True\n",
      "444    533798856  533798856             True\n",
      "450    503387185  503387185             True\n",
      "481    808214548  808214548             True\n",
      "517    798125753  798125753             True\n",
      "521    531739977  531739977             True\n",
      "523    000000000  000000000             True\n",
      "531    753072099  753072099             True\n",
      "543    514360965  514360965             True\n",
      "545    820998649  820998649             True\n",
      "557    435348032  435348032             True\n",
      "561    501285076  501285076             True\n",
      "566    410079339  410079339             True\n",
      "574    812812477  812812477             True\n",
      "611    452374317  452374317             True\n",
      "613    322120718  322120718             True\n",
      "622    498570506  498570506             True\n",
      "638    852555510  852555510             True\n",
      "645    792581258  792581258             True\n",
      "657    000000000  000000000             True\n",
      "678    803100866  803100866             True\n",
      "685    325348951  325348951             True\n",
      "688    794829952  794829952             True\n",
      "696    684984984  684984984             True\n",
      "745    818905705  818905705             True\n",
      "749    515346500  515346500             True\n",
      "760    510149537  510149537             True\n",
      "792    814913570  814913570             True\n",
      "807    444562532  444562532             True\n",
      "810    874930174  874930174             True\n",
      "812    498532365  498532365             True\n",
      "813    794293274  794293274             True\n",
      "818    850916412  850916412             True\n",
      "825    823561295  823561295             True\n",
      "827    813874419  813874419             True\n",
      "853    197621337  197621337             True\n",
      "856    801468034  801468034             True\n",
      "861    800196735  800196735             True\n",
      "868    801838988  801838988             True\n",
      "882    509892733  509892733             True\n",
      "884    414819409  414819409             True\n",
      "917    267600302  267600302             True\n",
      "918    534821392  534821392             True\n",
      "925    829020783  829020783             True\n",
      "965    753780865  753780865             True\n",
      "975    833185895  833185895             True\n",
      "987    192400356  192400356             True\n"
     ]
    }
   ],
   "source": [
    "df_9chiffres = df_data[(df_data['siret_9chiffres'] == True)]\n",
    "print(df_9chiffres)"
   ]
  },
  {
   "cell_type": "code",
   "execution_count": 7,
   "metadata": {},
   "outputs": [
    {
     "name": "stdout",
     "output_type": "stream",
     "text": [
      "VAL_IDEXTCLI       56\n",
      "siret              56\n",
      "siret_9chiffres    56\n",
      "dtype: int64\n",
      "VAL_IDEXTCLI       53\n",
      "siret              53\n",
      "siret_9chiffres    53\n",
      "dtype: int64\n"
     ]
    },
    {
     "name": "stderr",
     "output_type": "stream",
     "text": [
      "C:\\ProgramData\\Anaconda3\\lib\\site-packages\\ipykernel_launcher.py:4: SettingWithCopyWarning: \n",
      "A value is trying to be set on a copy of a slice from a DataFrame.\n",
      "Try using .loc[row_indexer,col_indexer] = value instead\n",
      "\n",
      "See the caveats in the documentation: http://pandas.pydata.org/pandas-docs/stable/indexing.html#indexing-view-versus-copy\n",
      "  after removing the cwd from sys.path.\n"
     ]
    }
   ],
   "source": [
    "n = df_9chiffres.count()\n",
    "print(df_9chiffres.count())\n",
    "\n",
    "df_9chiffres['siret_9chiffres']= df_9chiffres['siret'].apply(lambda x:(int(x)>0))\n",
    "\n",
    "print(df_9chiffres[(df_9chiffres['siret_9chiffres'] == True)].count())"
   ]
  },
  {
   "cell_type": "code",
   "execution_count": 23,
   "metadata": {},
   "outputs": [
    {
     "name": "stdout",
     "output_type": "stream",
     "text": [
      "{'0': 9}\n",
      "1\n",
      "checkNotSameNumbers('000000000') False\n",
      "{'7': 1, '3': 2, '2': 3, '8': 1, '9': 1, '0': 1}\n",
      "6\n",
      "checkNotSameNumbers('732829320') True\n",
      "{'5': 4, '2': 1, '1': 1, '0': 2, '4': 1}\n",
      "5\n",
      "checkNotSameNumbers('552100554') True\n",
      "isSIRET('000000000') True\n",
      "isSIRET('732829320') True\n",
      "isSIRET('552100554') True\n"
     ]
    }
   ],
   "source": [
    "#convert string to array of number\n",
    "def cleanChaine(chaine9chiffre):\n",
    "    return str(chaine9chiffre).replace(' ','')\n",
    "\n",
    "def checkFormat(chaine9chiffre):\n",
    "    format_siren = r\"^[0-9]{9}$\"\n",
    "    exp_mdp = re.compile(format_siren)\n",
    "    #verification 9 chiffres\n",
    "    return not (exp_mdp.search(chaine9chiffre) is None)\n",
    "\n",
    "def checkNotSameNumbers(chaine9chiffre):\n",
    "    chiffres = {}\n",
    "    for c in chaine9chiffre:\n",
    "      if c in chiffres:\n",
    "        chiffres[c] += 1\n",
    "      else:\n",
    "        chiffres[c] = 1\n",
    "    #print(chiffres)\n",
    "    #print(len(chiffres.keys()))\n",
    "    return(len(chiffres.keys())>1)\n",
    "\n",
    "def isSIRET(chaine9chiffre):\n",
    "    chaine9chiffre = cleanChaine(chaine9chiffre)\n",
    "\n",
    "    #verification 9 chiffres\n",
    "    if (checkFormat(chaine9chiffre)):\n",
    "        array_chaine9chiffre = [int(i) for i in str(chaine9chiffre)]\n",
    "        pos = 9\n",
    "        i=0\n",
    "        mod = 0\n",
    "        while i<9 :\n",
    "            if (pos%2 != 0):\n",
    "                fac=1\n",
    "            else:\n",
    "                fac=2\n",
    "            #print(array_chaine9chiffre)\n",
    "            result = int(array_chaine9chiffre[i]) * fac\n",
    "            #print('pos, fac, result',pos, fac, result)\n",
    "            \n",
    "            if (result > 9):\n",
    "                ar = [int(i) for i in str(result)]\n",
    "                result=0\n",
    "                for c in ar:\n",
    "                    result += int(c)\n",
    "            #print('result',result)\n",
    "            mod+=result\n",
    "            pos-=1\n",
    "            i+=1\n",
    "        return (mod%10 == 0)\n",
    "    else:\n",
    "        return False\n",
    "\n",
    "print(\"checkNotSameNumbers('000000000')\",checkNotSameNumbers('000000000'))\n",
    "print(\"checkNotSameNumbers('732829320')\",checkNotSameNumbers('732829320'))\n",
    "print(\"checkNotSameNumbers('552100554')\",checkNotSameNumbers('552100554'))\n",
    "\n",
    "print(\"isSIRET('000000000')\",isSIRET('000000000'))\n",
    "print(\"isSIRET('732829320')\",isSIRET('732829320'))\n",
    "print(\"isSIRET('552100554')\",isSIRET('552100554'))\n"
   ]
  },
  {
   "cell_type": "code",
   "execution_count": 24,
   "metadata": {},
   "outputs": [
    {
     "name": "stdout",
     "output_type": "stream",
     "text": [
      "VAL_IDEXTCLI       51\n",
      "siret              51\n",
      "siret_9chiffres    51\n",
      "siret_valide       51\n",
      "dtype: int64\n"
     ]
    },
    {
     "name": "stderr",
     "output_type": "stream",
     "text": [
      "C:\\ProgramData\\Anaconda3\\lib\\site-packages\\ipykernel_launcher.py:1: SettingWithCopyWarning: \n",
      "A value is trying to be set on a copy of a slice from a DataFrame.\n",
      "Try using .loc[row_indexer,col_indexer] = value instead\n",
      "\n",
      "See the caveats in the documentation: http://pandas.pydata.org/pandas-docs/stable/indexing.html#indexing-view-versus-copy\n",
      "  \"\"\"Entry point for launching an IPython kernel.\n"
     ]
    }
   ],
   "source": [
    "df_9chiffres['siret_valide']= df_9chiffres['siret'].apply(lambda x:(isSIRET(x)))\n",
    "\n",
    "print(df_9chiffres[(df_9chiffres['siret_valide'] == True)].count())"
   ]
  },
  {
   "cell_type": "code",
   "execution_count": null,
   "metadata": {},
   "outputs": [],
   "source": []
  }
 ],
 "metadata": {
  "kernelspec": {
   "display_name": "Python 3",
   "language": "python",
   "name": "python3"
  },
  "language_info": {
   "codemirror_mode": {
    "name": "ipython",
    "version": 3
   },
   "file_extension": ".py",
   "mimetype": "text/x-python",
   "name": "python",
   "nbconvert_exporter": "python",
   "pygments_lexer": "ipython3",
   "version": "3.7.3"
  }
 },
 "nbformat": 4,
 "nbformat_minor": 4
}
