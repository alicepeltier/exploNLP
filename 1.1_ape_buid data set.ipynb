{
 "cells": [
  {
   "cell_type": "code",
   "execution_count": 2,
   "metadata": {},
   "outputs": [
    {
     "name": "stdin",
     "output_type": "stream",
     "text": [
      " ··········\n"
     ]
    },
    {
     "name": "stdout",
     "output_type": "stream",
     "text": [
      "Teradata Database ODBC Driver 16.20\n"
     ]
    }
   ],
   "source": [
    "import json\n",
    "import os\n",
    "from pandas.io.json import json_normalize\n",
    "import pandas as pd\n",
    "import numpy as np\n",
    "#import skbox.connectors.teradata as teradata\n",
    "from skboxwin import Teradata #A REMPLACER PAR SKBOX\n",
    "import getpass\n",
    "\n",
    "os.environ['TERADATA_UID'] = 'U_PROD_CHG_BIGDATA_001'\n",
    "os.environ['TERADATA_PWD'] = getpass.getpass()\n",
    "\n",
    "teradata = Teradata()\n"
   ]
  },
  {
   "cell_type": "code",
   "execution_count": 23,
   "metadata": {},
   "outputs": [
    {
     "name": "stdout",
     "output_type": "stream",
     "text": [
      "     base_scheme                        base_url  \\\n",
      "5807      [http]  [www.guignery-fils-lehavre.fr]   \n",
      "5808      [http]  [www.guignery-fils-lehavre.fr]   \n",
      "\n",
      "                                             image_urls  \\\n",
      "5807  [http://www.guignery-fils-lehavre.fr/pluginApp...   \n",
      "5808  [http://www.guignery-fils-lehavre.fr/gallery/A...   \n",
      "\n",
      "                                                 images lib_arty siret  \\\n",
      "5807  [{'url': 'http://www.guignery-fils-lehavre.fr/...                  \n",
      "5808  [{'url': 'http://www.guignery-fils-lehavre.fr/...                  \n",
      "\n",
      "                                                    url  \\\n",
      "5807  [http://www.guignery-fils-lehavre.fr/salles-de...   \n",
      "5808  [http://www.guignery-fils-lehavre.fr/galerie-p...   \n",
      "\n",
      "                                    website_description website_email  \\\n",
      "5807  [christian renov plombier salle de bains insta...            []   \n",
      "5808                                                 []            []   \n",
      "\n",
      "                                       website_keywords      website_phone  \\\n",
      "5807  [plombier paris, depannage plombier paris, sal...  [ 02 35 22 77 36]   \n",
      "5808                                                 []  [ 02 35 22 77 36]   \n",
      "\n",
      "     website_siren website_siret  \\\n",
      "5807            []            []   \n",
      "5808            []            []   \n",
      "\n",
      "                                        website_tag_div       website_tag_p  \\\n",
      "5807  [                                             ...  [menu principal :]   \n",
      "5808  [                    chaudières     robinet de...  [menu principal :]   \n",
      "\n",
      "                                       website_tag_span  \\\n",
      "5807  [×  accueil   couverture   chauffage   plomber...   \n",
      "5808  [×  accueil   couverture   chauffage   plomber...   \n",
      "\n",
      "                                         website_titles  \\\n",
      "5807  [<title>salle de bains installation interventi...   \n",
      "5808  [<title>galerie photos - guignery couverture l...   \n",
      "\n",
      "                            netloc  \\\n",
      "5807  www.guignery-fils-lehavre.fr   \n",
      "5808  www.guignery-fils-lehavre.fr   \n",
      "\n",
      "                                               text_NLP  \n",
      "5807  ['christian renov plombier salle de bains inst...  \n",
      "5808  [],[],['                    chaudières     rob...  \n"
     ]
    }
   ],
   "source": [
    "# function to convert json file to dataframe\n",
    "def json2df(file):\n",
    "    tweets = []\n",
    "    for line in open(file, encoding=\"utf8\"):\n",
    "        tweets.append(json.loads(line))\n",
    "\n",
    "    df = pd.DataFrame(tweets)\n",
    "    return df\n",
    "\n",
    "alljsonsites_filename = 'scraping_websites_parse_workers_webites_results.jl'\n",
    "dirpath = os.getcwd()\n",
    "data_foldername = dirpath+ \"\\data\"\n",
    "alljsonsites_filename_path = data_foldername+\"\\\\\"+alljsonsites_filename \n",
    "\n",
    "df = json2df(alljsonsites_filename_path)\n",
    "#get first value of base_url column to build netloc column\n",
    "df['netloc'] = df['base_url'].apply(lambda x: x[0])\n",
    "\n",
    "df[df.isnull()]=''\n",
    "cols_txt = ['website_description', 'website_keywords', 'website_tag_div',\n",
    "       'website_tag_p', 'website_tag_span', 'website_titles']\n",
    "df['text_NLP'] = df[cols_txt].apply(lambda x: ','.join(x.dropna().astype(str)), axis=1)\n",
    "\n",
    "print(df.tail(2))"
   ]
  },
  {
   "cell_type": "code",
   "execution_count": 24,
   "metadata": {},
   "outputs": [
    {
     "name": "stdout",
     "output_type": "stream",
     "text": [
      "              siret                     netloc              LIB_ARTY\n",
      "374  84928014400015       www.conforteteau.com        EAU ET CONFORT\n",
      "375  84974738100010  www.renovation-maillot.fr  RENOV'INTERIEUR SARL\n"
     ]
    }
   ],
   "source": [
    "# get DF train = websites from ARTY\n",
    "artymatching = 'data_matching_test_v2.xlsx'\n",
    "\n",
    "df_match = pd.read_excel(data_foldername+\"\\\\\"+artymatching)\n",
    "print(df_match.tail(2))"
   ]
  },
  {
   "cell_type": "code",
   "execution_count": 25,
   "metadata": {},
   "outputs": [],
   "source": [
    "# get dom from ARTY with SIRET number\n",
    "list_siret = list(df_match['siret'])\n",
    "list_siret = [str(x) for x in list_siret]"
   ]
  },
  {
   "cell_type": "code",
   "execution_count": 26,
   "metadata": {},
   "outputs": [],
   "source": [
    "#build sql to get dom from arty\n",
    "sql = \"\"\"SELECT art.NUM_ARTY, art.COD_SRT, art_dom.NUM_DOM, dom.lib_dom AS lib_dom\n",
    "FROM BB_PROD_001_UNVBU.TD_SRV_ARTY AS art\n",
    "    LEFT JOIN BB_PROD_001_UNVBU.TD_SRV_ARTY_DOM AS art_dom ON (art.num_arty= art_dom.num_arty)\n",
    "    LEFT JOIN BB_PROD_001_UNVBU.TD_SRV_DOM_POS AS dom ON (art_dom.NUM_DOM = dom.NUM_DOM)\n",
    "\twhere art_dom.num_dom is not null\n",
    "    and art.DAT_DEREF_FIC is not null\n",
    "\tand art.COD_SRT in (\"\"\" + str(list_siret)[1:-1] + \"\"\")\n",
    "\torder by 2\n",
    "\"\"\"\n",
    "\n",
    "df_arty = teradata.select(sql)\n"
   ]
  },
  {
   "cell_type": "code",
   "execution_count": 27,
   "metadata": {},
   "outputs": [
    {
     "name": "stdout",
     "output_type": "stream",
     "text": [
      "    NUM_ARTY         COD_SRT  NUM_DOM                            lib_dom\n",
      "68    923256  81224239400011     8540          R03-plomberie - sanitaire\n",
      "69    923256  81224239400011    16450                   R07-SDB complete\n",
      "70    923256  81224239400011     8530         R08-Chaudiere Eligible RGE\n",
      "71    923256  81224239400011     7020                R07-Sanitaire lourd\n",
      "72    923256  81224239400011     8120                          R08-poêle\n",
      "73    923256  81224239400011    16906       R08-Chaudières non éligibles\n",
      "74    923256  81224239400011     7410                  R07-Meuble de SDB\n",
      "75    923256  81224239400011     8560                        R07-Robinet\n",
      "76    923256  81224239400011     7420                             R07-WC\n",
      "77    923951  83786775300019    16901             R01- Platrerie Cloison\n",
      "78    923951  83786775300019     6350  R06-Carrelage intérieur - Faïence\n",
      "79    923951  83786775300019    16933          R06 - Carrelage extérieur\n",
      "80    923951  83786775300019    16925               R01-Enduit de facade\n",
      "81    923951  83786775300019    16921      R01-Isolation par l'extérieur\n",
      "82    923951  83786775300019    16917              R01-Bardages et clins\n",
      "83    923951  83786775300019    12850      R12-Déco int:Peint,PP,Voilage\n",
      "84    923951  83786775300019    16923           R01-Isolation de combles\n",
      "85    923951  83786775300019     2150                  R06-Parquet collé\n",
      "86    923951  83786775300019    16922        R01-Isolation mur intérieur\n",
      "87    923951  83786775300019     2160               R06-Parquet flottant\n"
     ]
    }
   ],
   "source": [
    "df_arty = pd.concat(list(df_arty))\n",
    "print(df_arty.tail(20))"
   ]
  },
  {
   "cell_type": "code",
   "execution_count": 28,
   "metadata": {},
   "outputs": [
    {
     "name": "stdout",
     "output_type": "stream",
     "text": [
      "           COD_SRT                                            lib_dom\n",
      "8   79804742900013  {R02-Menuiserie intérieure, R09-Portail, R02-s...\n",
      "9   80250226000010  {R07-WC, R07-Robinet, R06-Parquet collé, R06-C...\n",
      "10  80491224400014  {R02-Porte de garage, R09-Abri de jardin, R09-...\n",
      "11  81224239400011  {R06-Carrelage intérieur - Faïence, R08-Instal...\n",
      "12  83786775300019  {R01- Platrerie Cloison, R06-Carrelage intérie...\n"
     ]
    }
   ],
   "source": [
    "# group all domaine for each workers\n",
    "s_arty = df_arty.groupby('COD_SRT')['lib_dom'].apply(lambda x: \"{%s}\" % ', '.join(x))\n",
    "d = {'COD_SRT':s_arty.index.tolist(), 'lib_dom':s_arty.values.tolist()}\n",
    "df_arty_clean = pd.DataFrame(data=d)\n",
    "df_arty_clean['COD_SRT']=pd.to_numeric(df_arty_clean['COD_SRT'])\n",
    "print(df_arty_clean.tail(5))\n"
   ]
  },
  {
   "cell_type": "code",
   "execution_count": 29,
   "metadata": {},
   "outputs": [
    {
     "name": "stdout",
     "output_type": "stream",
     "text": [
      "              siret                     netloc              LIB_ARTY\n",
      "374  84928014400015       www.conforteteau.com        EAU ET CONFORT\n",
      "375  84974738100010  www.renovation-maillot.fr  RENOV'INTERIEUR SARL\n"
     ]
    }
   ],
   "source": [
    "# get distinct lib_dom\n",
    "\n",
    "# get DF train = websites from ARTY\n",
    "artymatching = 'data_matching_test_v2.xlsx'\n",
    "\n",
    "df_match = pd.read_excel(data_foldername+\"\\\\\"+artymatching)\n",
    "print(df_match.tail(2))"
   ]
  },
  {
   "cell_type": "code",
   "execution_count": 30,
   "metadata": {},
   "outputs": [
    {
     "name": "stdout",
     "output_type": "stream",
     "text": [
      "                                     netloc                   LIB_ARTY lib_dom\n",
      "siret                                                                         \n",
      "84526305200019   www.cazeaux-electricite.fr  AE ELECTRICITE RENOVATION     NaN\n",
      "84749781500013      www.montage-cuisines.ch        BS MONTAGE CUISINES     NaN\n",
      "84760654800018  www.styleambianceconcept.fr    GELIN CONCEPT ET STYLES     NaN\n",
      "84928014400015         www.conforteteau.com             EAU ET CONFORT     NaN\n",
      "84974738100010    www.renovation-maillot.fr       RENOV'INTERIEUR SARL     NaN\n"
     ]
    }
   ],
   "source": [
    "# join arty & match\n",
    "df_match = df_match.set_index('siret').join(df_arty_clean.set_index('COD_SRT'))\n",
    "\n",
    "print(df_match.tail(5))"
   ]
  },
  {
   "cell_type": "code",
   "execution_count": 31,
   "metadata": {},
   "outputs": [
    {
     "name": "stdout",
     "output_type": "stream",
     "text": [
      "                              base_url          LIB_ARTY lib_dom\n",
      "netloc                                                          \n",
      "zestedesavoir.com  [zestedesavoir.com]  UN ZESTE DE BOIS     NaN\n",
      "zestedesavoir.com  [zestedesavoir.com]  UN ZESTE DE BOIS     NaN\n"
     ]
    }
   ],
   "source": [
    "# find the arty in the json file\n",
    "#/!\\ bug in the json file : siret is not correctly field => get the first baseurl to compare with the netloc matching\n",
    "df_match.rename(columns={\"siret\": \"siret_match\"})\n",
    "df2 = df.set_index('netloc').join(df_match.set_index('netloc'),lsuffix='_left', rsuffix='_right')\n",
    "subset = df2.loc[:,('base_url','LIB_ARTY','lib_dom')]\n",
    "print(subset.tail(2))"
   ]
  },
  {
   "cell_type": "code",
   "execution_count": 32,
   "metadata": {},
   "outputs": [
    {
     "name": "stdout",
     "output_type": "stream",
     "text": [
      "pickle est prêt !\n"
     ]
    }
   ],
   "source": [
    "# let pickle dataframe\n",
    "pkl_df ='./SCRAP_NLP_DATAFRAME.pkl'\n",
    "df2.to_pickle(pkl_df)\n",
    "print(\"pickle est prêt !\")"
   ]
  },
  {
   "cell_type": "code",
   "execution_count": null,
   "metadata": {},
   "outputs": [],
   "source": []
  }
 ],
 "metadata": {
  "kernelspec": {
   "display_name": "Python 3",
   "language": "python",
   "name": "python3"
  },
  "language_info": {
   "codemirror_mode": {
    "name": "ipython",
    "version": 3
   },
   "file_extension": ".py",
   "mimetype": "text/x-python",
   "name": "python",
   "nbconvert_exporter": "python",
   "pygments_lexer": "ipython3",
   "version": "3.7.3"
  }
 },
 "nbformat": 4,
 "nbformat_minor": 4
}
